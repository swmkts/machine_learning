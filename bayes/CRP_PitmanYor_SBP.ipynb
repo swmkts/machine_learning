{
 "cells": [
  {
   "cell_type": "markdown",
   "metadata": {},
   "source": [
    "# 中華料理店過程 Pitman-Yor過程 棒折り過程\n",
    "* ノンパラメトリックベイズ の基礎\n",
    "* 確率分布として各過程を理解する"
   ]
  },
  {
   "cell_type": "code",
   "execution_count": 1,
   "metadata": {},
   "outputs": [],
   "source": [
    "import numpy as np\n",
    "import scipy\n",
    "import matplotlib.pyplot as plt\n",
    "import matplotlib.patches as patches\n",
    "import seaborn as sns\n",
    "\n",
    "%matplotlib inline"
   ]
  },
  {
   "cell_type": "markdown",
   "metadata": {},
   "source": [
    "## Hoppe's urn model\n",
    "* 1個の黒玉と他の色の玉の入った壺\n",
    "* 黒玉の重さを$\\alpha$、色玉の重さは全て1とする。\n",
    "* 壺に入っている色玉の重さの割合により抽出を繰り返す。\n",
    "* 黒玉を取り出したときには壺に入っていない色の玉を無作為に選び、加える。\n",
    "\n",
    "- Polya's url modelの変形版。\n",
    "- Polyaでは新しい色玉が増えることはない。\n",
    "\n",
    "* ホップの壺モデルでは玉を取り出す順番は関係なく、色玉の種類、各色玉の個数の２つに依存して確率が決まる。\n",
    "* Ewens sampling formulaが成立する。\n",
    "    $$\n",
    "    P_E(n_1, \\cdots, n_c) = \\frac{\\alpha^c \\prod_{i=1}^c (n_i - 1)!}{AF(\\alpha, n)}\n",
    "    $$\n",
    "    ただし、$AF$は上昇階乗\n",
    "* 以下で上昇階乗のシミュレーションを行う。"
   ]
  },
  {
   "cell_type": "code",
   "execution_count": 2,
   "metadata": {},
   "outputs": [
    {
     "data": {
      "image/png": "[encoded data removed]",
      "text/plain": [
       "<Figure size 432x288 with 1 Axes>"
      ]
     },
     "metadata": {
      "needs_background": "light"
     },
     "output_type": "display_data"
    }
   ],
   "source": [
    "def AF(a, n=10):\n",
    "    af = a\n",
    "    for i in range(n):\n",
    "        af *= a + i\n",
    "    return af\n",
    "\n",
    "afs = []\n",
    "for a in range(100):\n",
    "    afs.append(AF(a))\n",
    "plt.plot(np.arange(100), afs, \"o\")\n",
    "plt.title(\"Ascending factorial\")\n",
    "plt.show()"
   ]
  },
  {
   "cell_type": "code",
   "execution_count": 3,
   "metadata": {},
   "outputs": [],
   "source": [
    "alpha = [1, 2, 5, 10, 20]\n",
    "adds = []\n",
    "clusters = []\n",
    "for al in alpha:\n",
    "    N = 1000\n",
    "    tables = [1]\n",
    "    num_person = [1]\n",
    "    add_num = [1]\n",
    "    cluster_len = [1]\n",
    "    for n in range(2, N+1):\n",
    "            prob = [num_person[i] / (n - 1 + al) for i in range(len(tables))] + [al / (n - 1 + al)]\n",
    "            samp = np.random.multinomial(1, prob)\n",
    "            cluster = int(np.where(samp==True)[0])\n",
    "            if cluster+1 > len(num_person):\n",
    "                num_person.append(1)\n",
    "                tables.append(1)\n",
    "            else:\n",
    "                num_person[cluster] += 1\n",
    "            add_num.append(n)\n",
    "            cluster_len.append(len(tables))\n",
    "    adds.append(add_num)\n",
    "    clusters.append(cluster_len)"
   ]
  },
  {
   "cell_type": "code",
   "execution_count": 4,
   "metadata": {},
   "outputs": [],
   "source": [
    "class CRP:\n",
    "    \"\"\"\n",
    "    Chinese restaurant process 中華料理店過程\n",
    "    \n",
    "    Attributes\n",
    "    ----------\n",
    "    alpha: double\n",
    "        concentration parameter\n",
    "    cluster: list\n",
    "        sampled paramter from base measure\n",
    "    cluster_num: list\n",
    "        the frequency of samples of each cluster\n",
    "    ----------\n",
    "    \"\"\"\n",
    "    def __init__(self, base_measure, base_param, alpha=2.):\n",
    "        \"\"\"\n",
    "        Parameters\n",
    "        ----------\n",
    "        base_measure: function\n",
    "            Base measure for CRP. \n",
    "        base_param: list\n",
    "            Parameters for base measure.\n",
    "        alpha: double\n",
    "            Concentration parameter.\n",
    "        \"\"\"\n",
    "        # 一人目は着席済みとする\n",
    "        self.alpha = alpha\n",
    "        self.base_measure = base_measure\n",
    "        self.base_param = base_param\n",
    "        self.cluster = np.array([base_measure(*base_param)])\n",
    "        self.cluster_num = np.array([1])\n",
    "    \n",
    "    def simulate(self, num_sample=1000):\n",
    "        \"\"\"\n",
    "        Simulate CRP cluster number changes as the number of samples increase.\n",
    "        \n",
    "        Parameters\n",
    "        ----------\n",
    "        num_sample: int\n",
    "            the total number of samples\n",
    "        \n",
    "        Returns\n",
    "        ----------\n",
    "        table_length: list\n",
    "            the simulated transition of the number of clusters\n",
    "        ----------\n",
    "        \"\"\"\n",
    "        num_person = [1]\n",
    "        tables = [1]\n",
    "        transition = [1]\n",
    "        for n in range(2, num_sample+1):\n",
    "            prob = np.append([num_person[i] / (n - 1 + self.alpha) for i in range(len(tables))],  [self.alpha / (n - 1 + self.alpha)])\n",
    "            samp = np.random.multinomial(1, prob)\n",
    "            cluster = int(np.where(samp==True)[0])\n",
    "            if cluster+1 > len(tables): # new cluster\n",
    "                num_person.append(1)\n",
    "                tables.append(1)\n",
    "            else: # existing cluster\n",
    "                num_person[cluster] += 1\n",
    "            transition.append(len(tables))\n",
    "        return transition\n",
    "    \n",
    "    def sample(self, num_sample=1000):\n",
    "        \"\"\"\n",
    "            base measureに従うサンプルを生成\n",
    "            \n",
    "            Parameters\n",
    "            ----------\n",
    "            num_sample: int\n",
    "                the number of samples\n",
    "            \n",
    "            Returns\n",
    "            ----------\n",
    "            self.cluster: np.array\n",
    "                cluster of generted parameters\n",
    "            self.cluster_num: np.array\n",
    "                the number of semples belonging to each clusters\n",
    "            \n",
    "        \"\"\"\n",
    "        for n in range(2, num_sample+1):\n",
    "            prob = np.append([self.cluster_num[i] / (n - 1 + self.alpha) for i in range(len(self.cluster))], [self.alpha / (n - 1 + self.alpha)])\n",
    "            samp = np.random.multinomial(1, prob)\n",
    "            cluster = int(np.where(samp==True)[0])\n",
    "            if cluster+1 > len(self.cluster_num):\n",
    "                self.cluster_num = np.append(self.cluster_num, 1)\n",
    "                self.cluster = np.append(self.cluster, self.base_measure(*self.base_param))\n",
    "            else:\n",
    "                self.cluster_num[cluster] += 1\n",
    "        self.cluster_num = self.cluster_num / np.sum(self.cluster_num)\n",
    "        return self.cluster, self.cluster_num  "
   ]
  },
  {
   "cell_type": "markdown",
   "metadata": {},
   "source": [
    "## CRPによるサンプルと基底測度との関係\n",
    "* 集中度パラメータを様々に変化させた時の基底測度との関係をみる\n",
    "* サンプル数に応じてクラスタ数が変化するため、titleに生成したクラスタ数を示してある"
   ]
  },
  {
   "cell_type": "code",
   "execution_count": 5,
   "metadata": {
    "scrolled": true
   },
   "outputs": [
    {
     "data": {
      "image/png": "[encoded data removed]",
      "text/plain": [
       "<Figure size 432x288 with 1 Axes>"
      ]
     },
     "metadata": {
      "needs_background": "light"
     },
     "output_type": "display_data"
    }
   ],
   "source": [
    "crp = CRP(**{\"base_measure\": np.random.normal, \"base_param\": [0, 1], \"alpha\": 4.})\n",
    "crp.sample(**{\"num_sample\": 1000})\n",
    "# crp2.sample(**{\"base_measure\": np.random.gamma, \"base_param\": [.8], \"alpha\": 3.})\n",
    "xmin, xmax = -5, 5\n",
    "x = np.linspace(xmin, xmax, 100)\n",
    "y = scipy.stats.norm(0, 1).pdf(x)\n",
    "# y = scipy.stats.gamma(.8).pdf(x)\n",
    "plt.plot(x, y, label=\"base measure\")\n",
    "# plt.bar(crp.cluster, crp.cluster_num, 0.1, label=\"CRP samples\")\n",
    "plt.bar(crp.cluster, crp.cluster_num / crp.cluster_num.max() * y.max(), 0.08, label=\"CRP samples\")\n",
    "plt.title(\"Samples from CRP (total cluster number:{})\".format(len(crp.cluster_num)))\n",
    "plt.legend()\n",
    "plt.show()"
   ]
  },
  {
   "cell_type": "markdown",
   "metadata": {},
   "source": [
    "## CRPによるクラスタ数とサンプル数の関係\n",
    "* $\\alpha$によりクラスタ数の変化がどの様に変化するかをシミュレーションする"
   ]
  },
  {
   "cell_type": "code",
   "execution_count": 6,
   "metadata": {},
   "outputs": [
    {
     "data": {
      "image/png": "[encoded data removed]",
      "text/plain": [
       "<Figure size 432x288 with 1 Axes>"
      ]
     },
     "metadata": {
      "needs_background": "light"
     },
     "output_type": "display_data"
    }
   ],
   "source": [
    "alpha = [2, 4, 8, 10, 20, 40]\n",
    "for i in range(len(alpha)):\n",
    "    crp = CRP(**{\"base_measure\": np.random.normal, \"base_param\": [0, 1], \"alpha\": alpha[i]})\n",
    "    transition = crp.simulate()\n",
    "    plt.plot(np.arange(len(transition)), transition, label=r'$\\alpha$='+str(alpha[i]))\n",
    "plt.legend()\n",
    "plt.title(\"CRP\")\n",
    "plt.xlabel(\"number of visitors\")\n",
    "plt.ylabel(\"number of tables\")\n",
    "plt.show()"
   ]
  },
  {
   "cell_type": "markdown",
   "metadata": {},
   "source": [
    "## Dirichlet processの問題点\n",
    "* [参考](http://chasen.org/~daiti-m/paper/svm2006-hpylm.pdf)\n",
    "* 要は、dirichlet smoothingを用いた時と同じ様に、ディリクレ過程における新規クラスタの追加にはクラスタの頻度が大きく影響する。"
   ]
  },
  {
   "cell_type": "code",
   "execution_count": 7,
   "metadata": {},
   "outputs": [],
   "source": [
    "class PitmanYor:\n",
    "    \"\"\"\n",
    "    Pitman-Yor process\n",
    "        the extension of dirichlet process\n",
    "    \n",
    "    Attributes\n",
    "    ----------\n",
    "    theta: double\n",
    "        Strength parameter\n",
    "    d: double 0 < d < 1\n",
    "        Discount parameter\n",
    "    cluster: list\n",
    "        sampled paramter from base measure\n",
    "    cluster_num: list\n",
    "        the frequency of samples of each cluster\n",
    "    ----------\n",
    "    \"\"\"\n",
    "    def __init__(self, base_measure, base_param, theta=2., d=2.):\n",
    "        \"\"\"\n",
    "        Parameters\n",
    "        ----------\n",
    "        base_measure: function\n",
    "            Base measure for CRP. \n",
    "        base_param: list\n",
    "            Parameters for base measure.\n",
    "        theta: double\n",
    "            Strength parameter\n",
    "        d: double\n",
    "            Discount parameter\n",
    "        \"\"\"\n",
    "        # 一人目は着席済みとする\n",
    "        self.theta = theta\n",
    "        self.d = d\n",
    "        self.base_measure = base_measure\n",
    "        self.base_param = base_param\n",
    "        self.cluster = np.array([base_measure(*base_param)])\n",
    "        self.cluster_num = np.array([1])\n",
    "    \n",
    "    def simulate(self, num_sample=1000):\n",
    "        \"\"\"\n",
    "        Simulate CRP cluster number changes as the number of samples increase.\n",
    "        \n",
    "        Parameters\n",
    "        ----------\n",
    "        num_sample: int\n",
    "            the total number of samples\n",
    "        \n",
    "        Returns\n",
    "        ----------\n",
    "        table_length: list\n",
    "            the simulated transition of the number of clusters\n",
    "        ----------\n",
    "        \"\"\"\n",
    "        num_person = [1]\n",
    "        tables = [1]\n",
    "        transition = [1]\n",
    "        for n in range(2, num_sample+1):\n",
    "            prob = np.append([(num_person[i] - self.d) / (n - 1 + self.theta) for i in range(len(tables))],  [(self.theta + self.d * len(tables)) / (n - 1 + self.theta)])\n",
    "            samp = np.random.multinomial(1, prob)\n",
    "            cluster = int(np.where(samp==True)[0])\n",
    "            if cluster+1 > len(tables): # new cluster\n",
    "                num_person.append(1)\n",
    "                tables.append(1)\n",
    "            else: # existing cluster\n",
    "                num_person[cluster] += 1\n",
    "            transition.append(len(tables))\n",
    "        return transition\n",
    "    \n",
    "    def sample(self, num_sample=1000):\n",
    "        \"\"\"\n",
    "            Generate samples from Pitman-Yor process\n",
    "            \n",
    "            Parameters\n",
    "            ----------\n",
    "            num_sample: int\n",
    "                the number of samples\n",
    "            \n",
    "            Returns\n",
    "            ----------\n",
    "            self.cluster: np.array\n",
    "                cluster of generted parameters\n",
    "            self.cluster_num: np.array\n",
    "                the number of semples belonging to each clusters\n",
    "            \n",
    "        \"\"\"\n",
    "        for n in range(2, num_sample+1):\n",
    "            prob = np.append([(self.cluster_num[i] - self.d) / (n - 1 + self.theta) for i in range(len(self.cluster))], [(self.theta + self.d * len(self.cluster)) / (n - 1 + self.theta)])\n",
    "            samp = np.random.multinomial(1, prob)\n",
    "            cluster = int(np.where(samp==True)[0])\n",
    "            if cluster+1 > len(self.cluster_num):\n",
    "                self.cluster_num = np.append(self.cluster_num, 1)\n",
    "                self.cluster = np.append(self.cluster, self.base_measure(*self.base_param))\n",
    "            else:\n",
    "                self.cluster_num[cluster] += 1\n",
    "        self.cluster_num = self.cluster_num / np.sum(self.cluster_num)\n",
    "        return self.cluster, self.cluster_num  "
   ]
  },
  {
   "cell_type": "code",
   "execution_count": 8,
   "metadata": {},
   "outputs": [
    {
     "data": {
      "image/png": "[encoded data removed]",
      "text/plain": [
       "<Figure size 432x288 with 1 Axes>"
      ]
     },
     "metadata": {
      "needs_background": "light"
     },
     "output_type": "display_data"
    }
   ],
   "source": [
    "py = PitmanYor(**{\"base_measure\": np.random.normal, \"base_param\": [0, 1], \"theta\": 4., \"d\": 0.2})\n",
    "py.sample(**{\"num_sample\": 1000})\n",
    "# crp2.sample(**{\"base_measure\": np.random.gamma, \"base_param\": [.8], \"alpha\": 3.})\n",
    "xmin, xmax = -5, 5\n",
    "x = np.linspace(xmin, xmax, 100)\n",
    "y = scipy.stats.norm(0, 1).pdf(x)\n",
    "# y = scipy.stats.gamma(.8).pdf(x)\n",
    "plt.plot(x, y, label=\"base measure\")\n",
    "# plt.bar(crp.cluster, crp.cluster_num, 0.1, label=\"CRP samples\")\n",
    "plt.bar(py.cluster, py.cluster_num / py.cluster_num.max() * y.max(), 0.08, label=\"CRP samples\")\n",
    "plt.title(\"Samples from Pitman-Yor process (total cluster number:{})\".format(len(py.cluster_num)))\n",
    "plt.legend()\n",
    "plt.show()"
   ]
  },
  {
   "cell_type": "code",
   "execution_count": 9,
   "metadata": {},
   "outputs": [
    {
     "ename": "NameError",
     "evalue": "name 'beta' is not defined",
     "output_type": "error",
     "traceback": [
      "\u001b[0;31m---------------------------------------------------------------------------\u001b[0m",
      "\u001b[0;31mNameError\u001b[0m                                 Traceback (most recent call last)",
      "\u001b[0;32m<ipython-input-9-51c11964b1c1>\u001b[0m in \u001b[0;36m<module>\u001b[0;34m\u001b[0m\n\u001b[1;32m      2\u001b[0m \u001b[0;31m# alpha = 8\u001b[0m\u001b[0;34m\u001b[0m\u001b[0;34m\u001b[0m\u001b[0;34m\u001b[0m\u001b[0m\n\u001b[1;32m      3\u001b[0m \u001b[0md\u001b[0m \u001b[0;34m=\u001b[0m \u001b[0;34m[\u001b[0m\u001b[0;36m0\u001b[0m\u001b[0;34m,\u001b[0m \u001b[0;36m0.2\u001b[0m\u001b[0;34m,\u001b[0m \u001b[0;36m0.3\u001b[0m\u001b[0;34m,\u001b[0m \u001b[0;36m0.4\u001b[0m\u001b[0;34m]\u001b[0m\u001b[0;34m\u001b[0m\u001b[0;34m\u001b[0m\u001b[0m\n\u001b[0;32m----> 4\u001b[0;31m \u001b[0;32mfor\u001b[0m \u001b[0mi\u001b[0m \u001b[0;32min\u001b[0m \u001b[0mrange\u001b[0m\u001b[0;34m(\u001b[0m\u001b[0mlen\u001b[0m\u001b[0;34m(\u001b[0m\u001b[0mbeta\u001b[0m\u001b[0;34m)\u001b[0m\u001b[0;34m)\u001b[0m\u001b[0;34m:\u001b[0m\u001b[0;34m\u001b[0m\u001b[0;34m\u001b[0m\u001b[0m\n\u001b[0m\u001b[1;32m      5\u001b[0m     \u001b[0mpy\u001b[0m \u001b[0;34m=\u001b[0m \u001b[0mPitmanYor\u001b[0m\u001b[0;34m(\u001b[0m\u001b[0;34m**\u001b[0m\u001b[0;34m{\u001b[0m\u001b[0;34m\"base_measure\"\u001b[0m\u001b[0;34m:\u001b[0m \u001b[0mnp\u001b[0m\u001b[0;34m.\u001b[0m\u001b[0mrandom\u001b[0m\u001b[0;34m.\u001b[0m\u001b[0mnormal\u001b[0m\u001b[0;34m,\u001b[0m \u001b[0;34m\"base_param\"\u001b[0m\u001b[0;34m:\u001b[0m \u001b[0;34m[\u001b[0m\u001b[0;36m0\u001b[0m\u001b[0;34m,\u001b[0m \u001b[0;36m1\u001b[0m\u001b[0;34m]\u001b[0m\u001b[0;34m,\u001b[0m \u001b[0;34m\"theta\"\u001b[0m\u001b[0;34m:\u001b[0m \u001b[0mtheta\u001b[0m\u001b[0;34m,\u001b[0m \u001b[0;34m\"d\"\u001b[0m\u001b[0;34m:\u001b[0m \u001b[0md\u001b[0m\u001b[0;34m[\u001b[0m\u001b[0mi\u001b[0m\u001b[0;34m]\u001b[0m\u001b[0;34m}\u001b[0m\u001b[0;34m)\u001b[0m\u001b[0;34m\u001b[0m\u001b[0;34m\u001b[0m\u001b[0m\n\u001b[1;32m      6\u001b[0m     \u001b[0mtransition\u001b[0m \u001b[0;34m=\u001b[0m \u001b[0mpy\u001b[0m\u001b[0;34m.\u001b[0m\u001b[0msimulate\u001b[0m\u001b[0;34m(\u001b[0m\u001b[0;36m1000\u001b[0m\u001b[0;34m)\u001b[0m\u001b[0;34m\u001b[0m\u001b[0;34m\u001b[0m\u001b[0m\n",
      "\u001b[0;31mNameError\u001b[0m: name 'beta' is not defined"
     ]
    }
   ],
   "source": [
    "theta = 2\n",
    "# alpha = 8\n",
    "d = [0, 0.2, 0.3, 0.4]\n",
    "for i in range(len(beta)):\n",
    "    py = PitmanYor(**{\"base_measure\": np.random.normal, \"base_param\": [0, 1], \"theta\": theta, \"d\": d[i]})\n",
    "    transition = py.simulate(1000)\n",
    "    plt.plot(np.arange(len(transition)), transition, label=r'$d$='+str(d[i]))\n",
    "plt.legend()\n",
    "plt.title(\"Pitman-Yor\" + r'($\\theta$=' + str(theta)+\")\")\n",
    "plt.xlabel(\"number of visitors\")\n",
    "plt.ylabel(\"number of tables\")\n",
    "plt.show()"
   ]
  },
  {
   "cell_type": "markdown",
   "metadata": {},
   "source": [
    "## SBP\n",
    "$$\n",
    "\\begin{aligned}\n",
    "\\theta_i &\\sim G_0(\\theta) \\\\\n",
    "\\pi_i &= v_i \\sim Be(1, \\alpha) \\\\\n",
    "\\mathbf{\\pi} &\\sim SBP(\\alpha) \\\\\n",
    "G(\\mathbf{\\theta}) &= \\sum_{i=1}^\\infty \\pi_i\\delta_{\\mathbf{\\theta}_i}\n",
    "\\end{aligned}\n",
    "$$"
   ]
  },
  {
   "cell_type": "code",
   "execution_count": null,
   "metadata": {},
   "outputs": [],
   "source": [
    "class SBP:\n",
    "    def __init__(self, base_measure, base_param, alpha=2., num_break=100):\n",
    "        self.alpha = alpha\n",
    "        self.base_measure = base_measure\n",
    "        self.base_param = base_param\n",
    "        self.num_break = num_break\n",
    "        self.v = []\n",
    "        self.pi = []\n",
    "        self.cluster = []\n",
    "        self.cluster_num = []\n",
    "        self.breaking()\n",
    "    \n",
    "    def breaking(self):\n",
    "        for i in range(1, self.num_break+1):\n",
    "            v_i = np.random.beta(a=1, b=self.alpha) # breaking\n",
    "            pi_i = np.prod(self.v)\n",
    "            self.pi.append(pi_i)\n",
    "            self.v.append(1 - v_i)\n",
    "            self.cluster.append(self.base_measure(*self.base_param))\n",
    "        self.pi = self.pi / np.sum(self.pi)\n",
    "        self.cluster_num = [0 for _ in range(len(self.pi))]\n",
    "        \n",
    "    def simulate(self, alpha=2., num_sample=1000):\n",
    "        num_person = [0 for _ in range(len(self.pi))]\n",
    "        tables = [0 for _ in range(len(self.pi))]\n",
    "        transition = []\n",
    "        for i in range(num_sample):\n",
    "            samp = int(np.where(np.random.multinomial(1, self.pi)==True)[0])\n",
    "            tables[samp] = 1\n",
    "            num_person[samp] += 1\n",
    "            transition.append(np.count_nonzero(tables))\n",
    "        return transition\n",
    "        \n",
    "    def sample(self, num_sample=1000):\n",
    "        for i in range(num_sample):    \n",
    "            samp = int(np.where(np.random.multinomial(1, self.pi / np.sum(self.pi))==True)[0])\n",
    "            self.cluster_num[samp] += 1\n",
    "        return self.pi"
   ]
  },
  {
   "cell_type": "code",
   "execution_count": null,
   "metadata": {},
   "outputs": [],
   "source": [
    "sbp = SBP(**{\"base_measure\": np.random.normal, \"base_param\": [0, 1], \"alpha\": 4., \"num_break\": 100,})\n",
    "sbp.sample(num_sample=1000)\n",
    "\n",
    "xmin, xmax = -5, 5\n",
    "x = np.linspace(xmin, xmax, 100)\n",
    "y = scipy.stats.norm(0, 1).pdf(x)\n",
    "# y = scipy.stats.gamma(.8).pdf(x)\n",
    "plt.plot(x, y, label=\"base measure\")\n",
    "# plt.bar(crp.cluster, crp.cluster_num, 0.1, label=\"CRP samples\")\n",
    "plt.bar(sbp.cluster, sbp.cluster_num / np.sum(sbp.cluster_num), 0.08)\n",
    "# plt.bar(sbp.cluster, sbp.cluster_num, 0.08)\n",
    "plt.title(\"Samples from SBP (total cluster number:{})\".format(np.count_nonzero(sbp.cluster_num)))\n",
    "plt.legend()\n",
    "plt.show()"
   ]
  },
  {
   "cell_type": "code",
   "execution_count": null,
   "metadata": {},
   "outputs": [],
   "source": [
    "sbp = SBP(**{\"base_measure\": np.random.normal , \"base_param\": [0, 1] , \"alpha\": 2., \"num_break\": 100})\n",
    "tb = sbp.simulate(1000)\n",
    "plt.plot(np.arange(len(tb)), tb)\n",
    "plt.show()\n",
    "# pi = sbp.sample(alpha=1)\n",
    "# plt.bar(np.arange(len(pi)), pi, 0.1)\n",
    "# plt.show()"
   ]
  },
  {
   "cell_type": "markdown",
   "metadata": {},
   "source": [
    "## Beta-Bernoulli process\n",
    "* 無限バイナリ行列の生成\n",
    "* $\\delta_{\\mathbf{\\theta}_i}$は、$B(\\mathbf{\\theta})$を基底測度とするディリクレ過程により生成された$\\mathbf{\\theta}_i$を無限個のアトムとして重みづけたものである。\n",
    "$$\n",
    "\\begin{aligned}\n",
    "B(\\mathbf{\\theta}) = \\sum_{i=1}^{\\infty} w_i \\delta_{\\mathbf{\\theta}_i}\n",
    "\\end{aligned}\n",
    "$$"
   ]
  },
  {
   "cell_type": "code",
   "execution_count": null,
   "metadata": {},
   "outputs": [],
   "source": [
    "sbp = SBP(**{\"base_measure\": np.random.normal, \"base_param\": [0, 1], \"alpha\": 4, \"num_break\": 20, })\n",
    "sbp.sample(**{\"num_sample\": 10000})\n",
    "\n",
    "probs = sbp.cluster_num / np.max(sbp.cluster_num)\n",
    "b_i = np.random.binomial(1, probs)\n",
    "# plt.bar(sbp.cluster, sbp.cluster_num, 0.08)\n",
    "len(b_i)\n",
    "b = []\n",
    "for i in range(20):\n",
    "    b_i = np.random.binomial(1, probs)\n",
    "    b.append(b_i)\n",
    "b = np.array(b)\n",
    "print(b.shape)\n",
    "tate = 1\n",
    "yoko = 1\n",
    "fig = plt.figure(figsize=(5, 5))\n",
    "ax = plt.axes()\n",
    "for t in range(b.shape[0]):\n",
    "    for y in range(b.shape[1]):\n",
    "#         print(b[t][y])\n",
    "        if b[t][y]:\n",
    "            r = patches.Rectangle(xy=(y*yoko, t*tate), width=yoko, height=tate, fill=True)\n",
    "        else:\n",
    "            r = patches.Rectangle(xy=(y*yoko, t*tate), width=yoko, height=tate, fill=False)\n",
    "        ax.add_patch(r)\n",
    "plt.axis('scaled')\n",
    "ax.set_aspect('equal')\n",
    "plt.title(\"Binary matrix from beta-bernoulli process\")\n",
    "plt.xlabel(\"breaking cluster\")\n",
    "plt.ylabel(\"number of samples\")\n",
    "plt.show()"
   ]
  }
 ],
 "metadata": {
  "kernelspec": {
   "display_name": "Python 3",
   "language": "python",
   "name": "python3"
  },
  "language_info": {
   "codemirror_mode": {
    "name": "ipython",
    "version": 3
   },
   "file_extension": ".py",
   "mimetype": "text/x-python",
   "name": "python",
   "nbconvert_exporter": "python",
   "pygments_lexer": "ipython3",
   "version": "3.7.3"
  }
 },
 "nbformat": 4,
 "nbformat_minor": 2
}
