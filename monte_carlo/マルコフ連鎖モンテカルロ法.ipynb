{
 "cells": [
  {
   "cell_type": "code",
   "execution_count": null,
   "metadata": {},
   "outputs": [],
   "source": []
  },
  {
   "cell_type": "code",
   "execution_count": 1,
   "metadata": {},
   "outputs": [],
   "source": [
    "import numpy as np\n",
    "import scipy.stats\n",
    "import matplotlib.pyplot as plt\n",
    "import seaborn as sns\n",
    "%matplotlib inline"
   ]
  },
  {
   "cell_type": "markdown",
   "metadata": {},
   "source": [
    "# マルコフ連鎖\n",
    "* 確率過程$(x^{0}, x^{1}, \\cdots)$が全ての$i, j \\in \\chi$と$t \\geq 0$に対して  \n",
    "$$\n",
    "&P(x^{(t+1)} = j | x{(0) = i_0, x{1} = i_1, \\cdots, x{(t-1)} = i_{t-1}, x^{(t)} = i)  \n",
    "\\\\\n",
    "&= P(x^{(t+1)} = j | x^{(t)} = i)\n",
    "$$"
   ]
  },
  {
   "cell_type": "code",
   "execution_count": 15,
   "metadata": {},
   "outputs": [
    {
     "data": {
      "text/plain": [
       "array([0, 1, 0])"
      ]
     },
     "execution_count": 15,
     "metadata": {},
     "output_type": "execute_result"
    }
   ],
   "source": [
    "np.random.multinomial(1, [0.1, 0.3, 0.6])"
   ]
  },
  {
   "cell_type": "code",
   "execution_count": null,
   "metadata": {},
   "outputs": [],
   "source": [
    "transition_mat = np.array([[1/2, 1/3, 1/6], [3/4, 0, 1/4], [0, 1, 0]])\n",
    "states = [0, 1, 2]\n",
    "x_0 = np.random.multinomial(1, transition_mat[0])\n",
    "T = 100\n",
    "x = [x_0]\n",
    "for t in range(1, T + 1):\n",
    "    transition_mat[x[t-1] + 1]"
   ]
  },
  {
   "cell_type": "markdown",
   "metadata": {},
   "source": [
    "# メトロポリスヘイスティングス\n",
    "1. 酔歩連鎖\n",
    "2. ランジェヴァン連鎖\n",
    "3. 独立連鎖\n",
    "4. ARMHアルゴリズム(acceptance-rejection Metropolis-Hastings algorithm)"
   ]
  },
  {
   "cell_type": "markdown",
   "metadata": {},
   "source": [
    "* 基本のアルゴリズム\n",
    "0. x^{(0)}を初期化する\n",
    "1. $t=0, 1, \\cdots$について  \n",
    "1.$y \\sim q(y|x^{(t)})$\n",
    "2. $u \\sim Uniform(0, 1)$として  \n",
    "$$\n",
    "x^{(t+1)} = \n",
    "\\begin{cases}\n",
    "y　\\quad if \\quad u \\leq \\alpha(x^{(t)}, y)\n",
    "\\\\\n",
    "x^{(t)} \\quad else\n",
    "\\end{cases}\n",
    "$$\n",
    "とする。ただし、\n",
    "$$\n",
    "\\alpha(x, y) = \\min{(1, \\frac{\\pi(y)/q(x|y)}{\\pi(x)/q(y|x)}}\n",
    "$$"
   ]
  },
  {
   "cell_type": "code",
   "execution_count": 17,
   "metadata": {},
   "outputs": [
    {
     "name": "stderr",
     "output_type": "stream",
     "text": [
      "/Users/kthstkhs/.pyenv/versions/3.7.3/envs/tensorflow/lib/python3.7/site-packages/matplotlib/axes/_axes.py:6521: MatplotlibDeprecationWarning: \n",
      "The 'normed' kwarg was deprecated in Matplotlib 2.1 and will be removed in 3.1. Use 'density' instead.\n",
      "  alternative=\"'density'\", removal=\"3.1\")\n"
     ]
    },
    {
     "data": {
      "image/png": "[encoded data removed]",
      "text/plain": [
       "<Figure size 432x288 with 1 Axes>"
      ]
     },
     "metadata": {
      "needs_background": "light"
     },
     "output_type": "display_data"
    }
   ],
   "source": [
    "x_th = np.linspace(-4, 8, 1000)\n",
    "y_th = 1 / (3*np.sqrt(2*np.pi)) * np.exp(-x_th**2/2) + 2 / (3*np.sqrt(2*np.pi)) * np.exp(-(x_th-4)**2/2) \n",
    "ratio = [1, 2]\n",
    "n_sample = 10000\n",
    "x_1 = np.random.normal(0, 1, n_sample)\n",
    "x_2 = np.random.normal(4, 1, n_sample*2)\n",
    "x = np.hstack([x_1, x_2])\n",
    "plt.plot(x_th, y_th)\n",
    "plt.hist(x, normed=True, bins=100)\n",
    "plt.show()"
   ]
  },
  {
   "cell_type": "markdown",
   "metadata": {},
   "source": [
    "この目標分布からのサンプルを得るため、\n",
    "$$\n",
    "    y = x + \\epsilon\n",
    "$$\n",
    "$$\n",
    "    \\epsilon \\sim U(-\\sigma, \\sigma)\n",
    "$$\n",
    "である酔歩連鎖を考える。この時のパラメータ$\\sigma$はステップサイズと呼ばれるパラメータであり、採択確率と状態空間内の遷移時間に影響する。また、$\\epsilon$の分布としては正規分布、一様分布も用いられる。"
   ]
  },
  {
   "cell_type": "code",
   "execution_count": 26,
   "metadata": {},
   "outputs": [
    {
     "data": {
      "image/png": "[encoded data removed]",
      "text/plain": [
       "<Figure size 432x288 with 1 Axes>"
      ]
     },
     "metadata": {
      "needs_background": "light"
     },
     "output_type": "display_data"
    },
    {
     "name": "stdout",
     "output_type": "stream",
     "text": [
      "Acceptance ration: 0.9652031\n"
     ]
    }
   ],
   "source": [
    "def calc_target_dist(x):\n",
    "    return 1/ 3 * (1 / np.sqrt(2 * np.pi)) * np.exp(-x**2 / 2) + 2 / 3 * (1 / np.sqrt(2 * np.pi)) * np.exp(-(x - 4)**2 / 2)\n",
    "\n",
    "x_init = 0\n",
    "step_size = 0.2\n",
    "iter_num = 10000000\n",
    "sample_list = []\n",
    "sample_list.append(x_init)\n",
    "x_previous = x_init\n",
    "accept_num = 0\n",
    "for i in range(0, iter_num):\n",
    "    y = x_previous + np.random.uniform(-step_size, step_size)\n",
    "    u = np.random.uniform(0, 1)\n",
    "    \n",
    "    alpha = min(1, calc_target_dist(y) / calc_target_dist(x_previous))\n",
    "    if u <= alpha:\n",
    "        sample_list.append(y)\n",
    "        x_previous = y\n",
    "        accept_num += 1\n",
    "    else:\n",
    "        sample_list.append(x_previous)\n",
    "        x_previous = x_previous\n",
    "plt.hist(sample_list, density=True, bins=100)\n",
    "plt.plot(x_th, y_th)\n",
    "plt.show()\n",
    "print(\"Acceptance ration: {}\".format(accept_num / iter_num))"
   ]
  },
  {
   "cell_type": "markdown",
   "metadata": {},
   "source": [
    "* 上のメモ  \n",
    "step_sizeを最初の1から0.2に下げた。iter_numをそのままにすると事後分布を近似しきれない。そのためiter_numを2ケタあげたところ、採択確率0.965でかなりいいサンプルが得られた。"
   ]
  },
  {
   "cell_type": "markdown",
   "metadata": {},
   "source": [
    "* トレースプロット"
   ]
  },
  {
   "cell_type": "code",
   "execution_count": 29,
   "metadata": {},
   "outputs": [
    {
     "data": {
      "image/png": "[encoded data removed]",
      "text/plain": [
       "<Figure size 432x288 with 1 Axes>"
      ]
     },
     "metadata": {
      "needs_background": "light"
     },
     "output_type": "display_data"
    }
   ],
   "source": [
    "plt.plot(sample_list)\n",
    "plt.show()"
   ]
  },
  {
   "cell_type": "markdown",
   "metadata": {},
   "source": [
    "* ランジェヴァン連鎖は  \n",
    "$$\n",
    "y = x + \\frac{\\sigma^{2}}{2}\\frac{\\partial{log\\pi(x)}}{\\partial x} + \\epsilon\n",
    "\\\\\n",
    "\\epsilon \\sim N(0, \\sigma^2I)\n",
    "$$  \n",
    "で定義される。現在の状態が目標のモードに近ければ微分項が0に近くなり酔歩連鎖に近い挙動をする。一方、離れている時には酔歩連鎖よりもモードに近い領域に候補を発生しやすくなる。"
   ]
  },
  {
   "cell_type": "markdown",
   "metadata": {},
   "source": [
    "* 独立連鎖は現在状態に依存せずに候補を発生させる。この時、採択確率は  \n",
    "$$\n",
    "\\alpha(x, y) = \\min{(1, \\frac{\\pi(y)/q(y)}{\\pi(x)/q(x)})}\n",
    "$$\n",
    "とする。実際には提案分布として、$\\pi(x)$のモードを平均、${{-\\partial  log{\\pi(x)} / \\partial x \\partial x^{'}}}^{-1}$を共分散行列とする多変量t分布がよく用いられる。"
   ]
  },
  {
   "cell_type": "markdown",
   "metadata": {},
   "source": [
    "## ARMHアルゴリズム(acceptance-rejection Metropolis-Hastings algorithm)\n",
    "* 棄却法の考えにより、独立連鎖よりも提案分布の近似を改善し、採択確率を高める\n",
    "* 棄却法のように$\\pi(x) \\leq Cq(x)$が必ず成り立つ必要はない\n",
    "* $\\pi(x)$のモード$\\pi-*$が求められれば$C = \\pi(x^*) / q(x^*)$を設定するのがよい"
   ]
  },
  {
   "cell_type": "markdown",
   "metadata": {},
   "source": [
    "## MHアルゴリズムの組み合わせ\n",
    "* 複数のMHアルゴリズムを組み合わせて効率的なサンプリングを簡単に実現できる\n",
    "* 混合推移核は確率$w$で1番目のMHアルゴリズムを使うことにすれば、  \n",
    "$$\n",
    "T(x, y) = wT_1(x, y) + (1 - w)T_2(x, y)\n",
    "$$  \n",
    "と表現できる。\n",
    "* 混合型の他に循環型も知られている\n",
    "* 循環型遷移核を応用した方法が以下のギブスサンプリングとなる"
   ]
  },
  {
   "cell_type": "markdown",
   "metadata": {},
   "source": [
    "# ギブスサンプリング\n",
    "* サンプル$x$をk個のブロックに分割して各ブロックをそれ以外のサンプルブロックの条件付き確率分布からサンプリングする手法である. この分布を完全条件付き分布と呼ぶ\n",
    "$$\n",
    "    x_i \\sim \\pi(x_1, \\cdots, x_{i-1}, x_{i+1}, \\cdots, x_k)\n",
    "$$"
   ]
  },
  {
   "cell_type": "markdown",
   "metadata": {},
   "source": [
    "1. initialize $x$ with random values\n",
    "2. for $t \\leftarrow 1: k$ do  \n",
    "    1. $x_1^{(t+1)} \\sim \\pi(x_1|x_2^{(t)}, \\cdots, x_k^{(t)})$\n",
    "    2. $x_2^{(t+1)} \\sim \\pi(x_2|x_1^{(t+1)}, \\cdots, x_k^{(t)})$  \n",
    "    $\\vdots$  \n",
    "    k. $x_k^{(t+1)} \\sim \\pi(x_k|x_1^{(t+1)}, \\cdots, x_{k-1}^{(t+1)})$"
   ]
  },
  {
   "cell_type": "markdown",
   "metadata": {},
   "source": [
    "* ギブスサンプリングでは$\\pi(x)$を普遍分布としてもつが、詳細釣り合い条件は必ずしも満たされないことに注意しなけらばならない\n",
    "* ギブスサンプリングで一部の完全条件付き分布からのサンプリングが行えない時にはそれを適切なMHアルゴリズムで置き換えてもよい. この組み合わせ法はMetropolis within Gibbs algorithmとして知られている."
   ]
  },
  {
   "cell_type": "markdown",
   "metadata": {},
   "source": [
    "## 多重ブロックMHアルゴリズム\n",
    "* いくつかの式変形により、ギブスサンプリングが多重ブロックMHアルゴリズムの一部であることが示され、このことから、ある条件のもとではギブスサンプリングが目標分布に収束することが言える。\n",
    "* 高次元のサンプリングを低次元のサンプリングに置き換えることができる。\n",
    "* 多重ブロックMHアルゴリズムの提案分布が完全条件付き分布に一致しているとして採択確率を計算すると、必ず1となる。"
   ]
  },
  {
   "cell_type": "markdown",
   "metadata": {},
   "source": [
    "## データ拡大法(data augmentation method)\n",
    "* 目標分布から直接サンプリングするのではなく、別の確率変数を導入し、同時分布からサンプリングをする方法\n",
    "* プロビットモデル、打ち切りありの回帰モデルの推定でよく使用される"
   ]
  },
  {
   "cell_type": "markdown",
   "metadata": {},
   "source": [
    "## スライスサンプリング(slice sampling)\n",
    "* データ拡大法において$\\pi(x|z)$と$\\pi(z|x)$の完全条件付き分布から構成されるギブスサンプリングを考える。$x$が統計モデルのパラメータ、$z$が欠損データを表しているとすれば、$\\pi(z|x)$からのサンプリングはRubin(1987)の代入法に対応する。また、この時のギブスサンプリングはEMアルゴリズムと関連しているらしい。\n",
    "* $x, z$をスカラーとする。目標分布$\\pi(x)$が確率分布$p(x)$と非負関数$l(x)$により$\\pi(x) \\propto p(x)l(x)$と表せるとする。さらに$z$を非負の確率変数とすると、$x,z$の同時確率分布\n",
    "$$\n",
    "\\pi(x, y) \\propto I[z < l(x)]p(x)\n",
    "$$\n",
    "を考えれば、xの周辺確率分布が目標分布と一致しているのは明らからしい。。。  \n",
    "この同時分布に対してギブスサンプリングを行うのがスライスサンプリングである。  \n",
    "$\\pi(z|x)$は一様分布$U(0, l(x))$なのでサンプリングは簡単である。一方、$\\pi(x|z)$は$l(x) > z$の制約上での$p(x)$の分布であるため、難しそうだが、適用例は多く知られている。"
   ]
  },
  {
   "cell_type": "markdown",
   "metadata": {},
   "source": [
    "## 収束の判定\n",
    "* MCMCサンプルの時系列プロットを調査する\n",
    "    * サンプル変動が安定になる点を分析者の目で判断する\n",
    "* 客観的手法\n",
    "    * Heidelberger and Welch(1983)\n",
    "    * Gelman and Rubin(1992)\n",
    "    * Geweke(1992)\n",
    "    * Raftery and Lewis(1992)\n",
    "* 問題ごとに複数手法の組み合わせで判定するのがよい\n",
    "* 標本自己相関"
   ]
  },
  {
   "cell_type": "markdown",
   "metadata": {},
   "source": [
    "* ラオ-ブラックウェル化  \n",
    "$x$を2つのブロックに分割して一方の平均値が知りたい時、2つのブロックの同時分布からのサンプルを用いて計算することができる。しかし、一方の条件付き分布がわかれば条件付き期待値としても計算ができる。このように計算する方法をラオ-ブラックウェル化という。サンプルが独立であればラオ-ブラックウェルの定理から  \n",
    "$$\n",
    "Var(I) \\geq Var(I_{RB})\n",
    "$$  \n",
    "が成り立つ。MCMCによるサンプルは独立ではないが、この手法で推定精度が良くなるらしい。"
   ]
  },
  {
   "cell_type": "markdown",
   "metadata": {},
   "source": [
    "# プログラムの検査\n",
    "* Geweke(2004)の方法  \n",
    "* 統計モデルを$f(y|\\theta)$、パラメータの事前分布を$\\pi(\\theta)$とする。統計モデルと事前分布からサンプリングができるとして、  \n",
    "1. $\\theta^{(t)}$を$\\pi(\\theta)$から発生\n",
    "2. $y^{(t)}$を$f$から発生\n",
    "を$T_1$回繰り返すとサンプル列$(g(\\theta^{(1)}, y^{(1)}), g(\\theta^{(2)}, y^{(2)}), \\cdots, g(\\theta^{(T_1)}, y^{(T_1)}))$が得られる。ここで、得られたサンプルは同時分布$\\pi(\\theta, y)$からのサンプルである。  \n",
    "同時分布$\\pi(\\theta, y)$からギブスサンプリングすることを考える。$y$の完全条件付き分布は尤度関数項なので、$\\theta^{(0)}$を事前分布$\\pi(\\theta)$から発生させて、$t=1, \\cdots, T_2$に対して、\n",
    "1. $y^{(t)}$を$f$から発生させる\n",
    "2. $theta^{(t)}$を$\\pi$から発生させる\n",
    "により$g$に関する別のサンプル列が得られる。プログラムが正しければ2手法により生成したサンプル群は同じ確率分布からのサンプルのはずなので、統計量を比較することで、プログラムが正しいかどうか確認できる。"
   ]
  },
  {
   "cell_type": "markdown",
   "metadata": {},
   "source": [
    "## MTMアルゴリズム(multiple-try Metropolis algorithm)\n",
    "* MHアルゴリズムにおいて提案分布から複数の候補を発生させることがミソ。\n",
    "* この拡張としては複数の候補を別々の提案分布から発生させる手法も提案されている。また、すでに発生させた候補に依存する提案分布を考えて逐次的に候補を発生させるMPMアルゴリズムも提案されている。"
   ]
  },
  {
   "cell_type": "code",
   "execution_count": null,
   "metadata": {},
   "outputs": [],
   "source": []
  },
  {
   "cell_type": "markdown",
   "metadata": {},
   "source": [
    "## レプリカ交換モンテカルロ法(replica exchange Monte Carlo method, parallel tempering)\n",
    "* MTMでは複数候補を発生させていたが、複数の確率分布を考えることでMHアルゴリズムの改善を目指す方法が提案されている。シミュレーテッドテンパリング、パラレルテンパリング、等エネルギーサンプラーなどがある。\n",
    "* $m$個の確率分布$\\pi_i(x)$からサンプリングして$m$個の連鎖を作る。これらの中で状態推移が早く混合のよい連鎖があれば連鎖間で状態を交換して、混合の悪い連鎖の効率を改善できる。\n",
    "\n",
    "1. $\\pi_i(x)$を不変分布とするMHアルゴリズムにより$x_i$を更新する$(i=1,\\cdots,m)$。\n",
    "2. $\\{x_1, \\cdots, x_m\\}$からランダムに$x_r$と$x_s$を選び確率\n",
    "$$\n",
    "\\alpha_{PT} = \\min{\\{1, \\frac{\\pi_r(x_s)\\pi_s(x_r)}{\\pi_r(x_r)\\pi_s(x_s)}\\}}\n",
    "$$  \n",
    "で$x_r$と$x_s$を入れ替える\n",
    "* 実用では隣り合う連鎖を選ぶことが多い。また目標分布を$\\pi(x)$とし$H(x) = -\\log{\\pi(x)}$とおいて\n",
    "$$\n",
    "\\pi_i(x) \\propto \\exp{\\{-\\frac{H(x)}{T_i}\\}} \\quad (i=1, \\cdots, m)\n",
    "$$\n",
    "による$\\pi_i$がよく用いられる。$T_i$は温度パラメータであり$1 = T_1<T_2<\\cdots<T_m$である($\\pi_1(x) = \\pi(x)$)。ベイズ統計では\n",
    "$$\n",
    "\\pi_i(\\theta|y) \\propto f(y|\\theta)^{(1 / T_i)} \\pi(\\theta)\n",
    "$$\n",
    "とすることも多い。  \n",
    "温度が高い方が複数のモード間の移動が多くなり、より広い状態空間を探索できる。"
   ]
  },
  {
   "cell_type": "code",
   "execution_count": null,
   "metadata": {},
   "outputs": [],
   "source": []
  },
  {
   "cell_type": "markdown",
   "metadata": {},
   "source": [
    "## 進化的モンテカルロ法(evolutionary Monte Carlo method)\n",
    "* パラレルテンパリングの2ステップの間に追加のステップをはさむ\n",
    "* 遺伝的アルゴリズムの考えを採用"
   ]
  },
  {
   "cell_type": "code",
   "execution_count": null,
   "metadata": {},
   "outputs": [],
   "source": []
  },
  {
   "cell_type": "markdown",
   "metadata": {},
   "source": [
    "## ハミルトニアンモンテカルロ法(Hamiltonian Monte Carlo method)\n",
    "\n",
    "* 目標分布$\\pi(x)$に対して$U(x) = - \\log{\\pi(x)}$を考え、$x$と同じ次元の補助変数$p$を導入して、\n",
    "$$\n",
    "H(x,p) = U(x) + \\frac{1}{2}p^{'}p\n",
    "$$\n",
    "とする。HMCでは目標分布を\n",
    "$$\n",
    "\\pi(x, p) \\propto \\exp{\\{-H(x,p)\\}} = \\exp{\\{-U(x)\\}}\\exp{(-\\frac{p^{'}p}{2})}\n",
    "$$\n",
    "として$x, p$についてMHアルゴリズムを実行する。\n",
    "* パラメータとして$\\epsilon, L$の2つがある。$\\epsilon$が小さいと採択確率は高いが、状態推移を早くするには$L$が大きくなければならず、計算時間が増えてしまう。逆に$\\epsilon$が大きければ採択確率が下がる。採択確率は60~70%になるようパラメータを調整するのが望ましいらしい。\n",
    "* この$\\epsilon, L$を自動決定しようとして開発されたのがNUTSである。\n",
    "* 経路積分の方法としてLeapfrog法が使われている。Euler法を使うこともできなくはない。"
   ]
  },
  {
   "cell_type": "markdown",
   "metadata": {},
   "source": [
    "## NUTS(No U Turn Sampler)\n",
    "* $\\epsilon$:dual averaging\n",
    "* $L$: なんかよくわからないがとりあえず伸ばしていって、Uターンしたら止めて新しくサンプル開始"
   ]
  },
  {
   "cell_type": "code",
   "execution_count": null,
   "metadata": {},
   "outputs": [],
   "source": []
  }
 ],
 "metadata": {
  "kernelspec": {
   "display_name": "Python 3",
   "language": "python",
   "name": "python3"
  },
  "language_info": {
   "codemirror_mode": {
    "name": "ipython",
    "version": 3
   },
   "file_extension": ".py",
   "mimetype": "text/x-python",
   "name": "python",
   "nbconvert_exporter": "python",
   "pygments_lexer": "ipython3",
   "version": "3.7.3"
  }
 },
 "nbformat": 4,
 "nbformat_minor": 2
}
