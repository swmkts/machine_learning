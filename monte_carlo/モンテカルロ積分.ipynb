{
 "cells": [
  {
   "cell_type": "code",
   "execution_count": 1,
   "metadata": {},
   "outputs": [],
   "source": [
    "import numpy as np\n",
    "import scipy.stats\n",
    "import matplotlib.pyplot as plt\n",
    "import seaborn as sns\n",
    "%matplotlib inline"
   ]
  },
  {
   "cell_type": "markdown",
   "metadata": {},
   "source": [
    "## 重点サンプリング(importance sampling)\n",
    "1. $$　x^{(t)} \\sim q(x) \\quad (t = 1, \\cdots, T)$$\n",
    "2. $$ w(x^{(t)}) = \\pi(x^{(t)})/q(x^{(t)})$$\n",
    "3. $$ \\hat{I}_{IS} = \\frac{1}{T} \\sum_{t=1}^{T} g(x^{(t)})w(x^{(t)})$$\n",
    "\n",
    "$q(x)$は重点密度と呼ばれる"
   ]
  },
  {
   "cell_type": "markdown",
   "metadata": {},
   "source": [
    "## 自己正規化重点サンプリング(self-Normalized inportance sampling)"
   ]
  },
  {
   "cell_type": "code",
   "execution_count": 32,
   "metadata": {},
   "outputs": [
    {
     "name": "stdout",
     "output_type": "stream",
     "text": [
      "nu: 0.0 I_snis: 0.05430616000082367\n",
      "nu: 0.5 I_snis: 0.054154058777073494\n",
      "nu: 1.0 I_snis: 0.05343163923325038\n",
      "nu: 1.5 I_snis: 0.05363796272041313\n",
      "nu: 2.0 I_snis: 0.05410168067921579\n",
      "nu: 2.5 I_snis: 0.053628421967613096\n",
      "nu: 3.0 I_snis: 0.05977270268745205\n",
      "nu: 3.5 I_snis: 0.046257140617077384\n",
      "nu: 4.0 I_snis: 0.07378564702024482\n",
      "nu: 4.5 I_snis: 0.11402180369912487\n",
      "nu: 5.0 I_snis: 0.03645377406820665\n"
     ]
    }
   ],
   "source": [
    "nu = np.arange(0, 5.5, 0.5)\n",
    "n_sample = 100000\n",
    "I_list = []\n",
    "for nu_ in nu:\n",
    "    x_t = np.random.normal(nu_, 1, n_sample)\n",
    "    #x_t = x_t[x_t >= 2]\n",
    "    w_x_t = np.exp(-x_t**2 / 2) / ((1 / (np.sqrt(2*np.pi))) * np.exp(-(x_t - nu_)**2 / 2))\n",
    "    w_star = w_x_t / np.sum(w_x_t)\n",
    "#     I_snis = np.sum(x_t * w_star)\n",
    "    I_snis = np.sum(x_t[x_t>=2] * w_star[x_t>=2])\n",
    "    print(\"nu: {} I_snis: {}\".format(nu_, I_snis))"
   ]
  },
  {
   "cell_type": "markdown",
   "metadata": {},
   "source": [
    "## 適応的重点サンプリング\n",
    "* 重点サンプリングでよく使われる手法\n",
    "    1. \\pi(x)のモード$x^*$を求め\n",
    "    $\n",
    "        V^{-1} = - \\frac{\\partial^2\\log{\\pi(x)}}{\\partial x\\partial x'}  |_{x=x'}\n",
    "    $を計算し、正規分布$N(x^*, V)$あるいは多変量t分布$T_{\\nu}(x^*, V)$を$q(x)として利用する(多峰の時に問題あり)\n",
    "    \n",
    "* 適当な$q(x)$から重点サンプリングにより得られた$\\pi(x)$の平均や共分散行列から$q(x)$を更新して利用する"
   ]
  },
  {
   "cell_type": "code",
   "execution_count": null,
   "metadata": {},
   "outputs": [],
   "source": []
  }
 ],
 "metadata": {
  "kernelspec": {
   "display_name": "Python 3",
   "language": "python",
   "name": "python3"
  },
  "language_info": {
   "codemirror_mode": {
    "name": "ipython",
    "version": 3
   },
   "file_extension": ".py",
   "mimetype": "text/x-python",
   "name": "python",
   "nbconvert_exporter": "python",
   "pygments_lexer": "ipython3",
   "version": "3.7.3"
  }
 },
 "nbformat": 4,
 "nbformat_minor": 2
}
